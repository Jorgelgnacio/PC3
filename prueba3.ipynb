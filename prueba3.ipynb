{
 "cells": [
  {
   "cell_type": "markdown",
   "id": "5a265950",
   "metadata": {},
   "source": [
    "Trabajar desde local.\n",
    "---------------------\n",
    "1. Crear un rpositorio con nombre PC3.\n",
    "2. Crea un archivo .ipnb con nombre prueba3 y anéxalo al repositorio.\n",
    "En el archivo agrega una función para obtener el factorial de un número entero positivo.\n",
    "3. Crea un archivo .csv con nombre datos3 y anéxalo al repositorio.\n",
    "El contenido debe tener una columna con las 10 primeras letras del abecedario."
   ]
  },
  {
   "cell_type": "code",
   "execution_count": 1,
   "id": "6fa5f1da",
   "metadata": {},
   "outputs": [
    {
     "data": {
      "text/plain": [
       "1"
      ]
     },
     "execution_count": 1,
     "metadata": {},
     "output_type": "execute_result"
    }
   ],
   "source": [
    "def factor(numero):\n",
    "    if numero == 1:\n",
    "        return 1\n",
    "    if numero == 0:\n",
    "        return 1\n",
    "    else:\n",
    "        return (numero*factor(numero-1))\n",
    "    \n",
    "factor(1)"
   ]
  },
  {
   "cell_type": "code",
   "execution_count": null,
   "id": "600837a4",
   "metadata": {},
   "outputs": [],
   "source": []
  }
 ],
 "metadata": {
  "kernelspec": {
   "display_name": "Python 3 (ipykernel)",
   "language": "python",
   "name": "python3"
  },
  "language_info": {
   "codemirror_mode": {
    "name": "ipython",
    "version": 3
   },
   "file_extension": ".py",
   "mimetype": "text/x-python",
   "name": "python",
   "nbconvert_exporter": "python",
   "pygments_lexer": "ipython3",
   "version": "3.9.12"
  }
 },
 "nbformat": 4,
 "nbformat_minor": 5
}
{
 "cells": [
  {
   "cell_type": "code",
   "execution_count": 1,
   "id": "3debb748",
   "metadata": {},
   "outputs": [
    {
     "name": "stdout",
     "output_type": "stream",
     "text": [
      "Factorial de 10 es 3628800\n"
     ]
    }
   ],
   "source": [
    "def factorial(n): \n",
    "    return 1 if (n==1 or n==0) else n * factorial(n - 1);  \n",
    "  \n",
    "num = 10; \n",
    "print(\"Factorial de\",num,\"es\", factorial(num))"
   ]
  }
 ],
 "metadata": {
  "kernelspec": {
   "display_name": "Python 3 (ipykernel)",
   "language": "python",
   "name": "python3"
  },
  "language_info": {
   "codemirror_mode": {
    "name": "ipython",
    "version": 3
   },
   "file_extension": ".py",
   "mimetype": "text/x-python",
   "name": "python",
   "nbconvert_exporter": "python",
   "pygments_lexer": "ipython3",
   "version": "3.9.12"
  }
 },
 "nbformat": 4,
 "nbformat_minor": 5
}
